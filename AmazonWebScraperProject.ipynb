{
 "cells": [
  {
   "cell_type": "code",
   "execution_count": 3,
   "id": "79d9d180",
   "metadata": {},
   "outputs": [],
   "source": [
    "# import libraries\n",
    "\n",
    "from bs4 import BeautifulSoup\n",
    "import requests\n",
    "import time\n",
    "import datetime\n",
    "\n",
    "import smtplib\n"
   ]
  },
  {
   "cell_type": "code",
   "execution_count": 4,
   "id": "c4578658",
   "metadata": {},
   "outputs": [
    {
     "name": "stdout",
     "output_type": "stream",
     "text": [
      "TSHIRTAMAZING Data Science T Shirt Programmer Analyst Statistic Scientist Black\n",
      "23.95\n"
     ]
    }
   ],
   "source": [
    "# Connect to Website and pull in data\n",
    "\n",
    "URL = 'https://www.amazon.com/TSHIRTAMAZING-Science-Programmer-Statistic-Scientist/dp/B08KGBYZQR/ref=sr_1_56?keywords=data%2Banalyst%2Btshirt&qid=1677953751&sr=8-56'\n",
    "\n",
    "headers = {\"User-Agent\": \"Mozilla/5.0 (Windows NT 10.0; Win64; x64) AppleWebKit/537.36 (KHTML, like Gecko) Chrome/110.0.0.0 Safari/537.36\", \"Accept-Encoding\":\"gzip, deflate\", \"Accept\":\"text/html,application/xhtml+xml,application/xml;q=0.9,*/*;q=0.8\", \"DNT\":\"1\",\"Connection\":\"close\", \"Upgrade-Insecure-Requests\":\"1\"}\n",
    "\n",
    "page = requests.get(URL, headers=headers)\n",
    "\n",
    "soup1 = BeautifulSoup(page.content, \"html.parser\")\n",
    "\n",
    "soup2 = BeautifulSoup(soup1.prettify(), \"html.parser\")\n",
    "\n",
    "title = soup2.find(id='productTitle').get_text().strip()\n",
    "\n",
    "print(title)\n",
    "\n",
    "price_span = soup2.find('span', {'class': 'a-offscreen'})\n",
    "\n",
    "price = price_span.text.strip()[1:]\n",
    "\n",
    "print(price)\n",
    "\n"
   ]
  },
  {
   "cell_type": "code",
   "execution_count": 5,
   "id": "244b713b",
   "metadata": {},
   "outputs": [
    {
     "name": "stdout",
     "output_type": "stream",
     "text": [
      "2023-03-04\n"
     ]
    }
   ],
   "source": [
    "import datetime\n",
    "\n",
    "today = datetime.date.today()\n",
    "\n",
    "print(today)"
   ]
  },
  {
   "cell_type": "code",
   "execution_count": 7,
   "id": "b7828c57",
   "metadata": {},
   "outputs": [],
   "source": [
    "import csv\n",
    "\n",
    "header = ['Title', 'Price', 'Date']\n",
    "data = [title, price, today]\n",
    "\n",
    "\n",
    "#with open('AmazonWebScraperDataset.csv', 'w', newline='', encoding='UTF8') as f:\n",
    "    #writer = csv.writer(f)\n",
    "    #writer.writerow(header)\n",
    "    #writer.writerow(data)\n",
    "\n"
   ]
  },
  {
   "cell_type": "code",
   "execution_count": 8,
   "id": "91f7f2ca",
   "metadata": {},
   "outputs": [
    {
     "name": "stdout",
     "output_type": "stream",
     "text": [
      "                                                Title  Price        Date\n",
      "0   TSHIRTAMAZING Data Science T Shirt Programmer ...  23.95  2023-03-04\n",
      "1   TSHIRTAMAZING Data Science T Shirt Programmer ...  23.95  2023-03-04\n",
      "2   TSHIRTAMAZING Data Science T Shirt Programmer ...  23.95  2023-03-04\n",
      "3   TSHIRTAMAZING Data Science T Shirt Programmer ...  23.95  2023-03-04\n",
      "4   TSHIRTAMAZING Data Science T Shirt Programmer ...  23.95  2023-03-04\n",
      "5   TSHIRTAMAZING Data Science T Shirt Programmer ...  23.95  2023-03-04\n",
      "6   TSHIRTAMAZING Data Science T Shirt Programmer ...  23.95  2023-03-04\n",
      "7   TSHIRTAMAZING Data Science T Shirt Programmer ...  23.95  2023-03-04\n",
      "8   TSHIRTAMAZING Data Science T Shirt Programmer ...  23.95  2023-03-04\n",
      "9   TSHIRTAMAZING Data Science T Shirt Programmer ...  23.95  2023-03-04\n",
      "10  TSHIRTAMAZING Data Science T Shirt Programmer ...  23.95  2023-03-04\n",
      "11  TSHIRTAMAZING Data Science T Shirt Programmer ...  23.95  2023-03-04\n"
     ]
    }
   ],
   "source": [
    "import pandas as pd\n",
    "\n",
    "df = pd.read_csv(r'C:\\Users\\lolkt\\AmazonWebScraperDataset.csv')\n",
    "\n",
    "print(df)"
   ]
  },
  {
   "cell_type": "code",
   "execution_count": 9,
   "id": "7e3eb073",
   "metadata": {},
   "outputs": [],
   "source": [
    "#Now we are appending data to the csv\n",
    "\n",
    "with open('AmazonWebScraperDataset.csv', 'a+', newline='', encoding='UTF8') as f:\n",
    "    writer = csv.writer(f)\n",
    "    writer.writerow(data)"
   ]
  },
  {
   "cell_type": "code",
   "execution_count": 10,
   "id": "bed7a093",
   "metadata": {},
   "outputs": [],
   "source": [
    "\n",
    "def check_price():\n",
    "    URL = 'https://www.amazon.com/TSHIRTAMAZING-Science-Programmer-Statistic-Scientist/dp/B08KGBYZQR/ref=sr_1_56?keywords=data%2Banalyst%2Btshirt&qid=1677953751&sr=8-56'\n",
    "\n",
    "    headers = {\"User-Agent\": \"Mozilla/5.0 (Windows NT 10.0; Win64; x64) AppleWebKit/537.36 (KHTML, like Gecko) Chrome/110.0.0.0 Safari/537.36\", \"Accept-Encoding\":\"gzip, deflate\", \"Accept\":\"text/html,application/xhtml+xml,application/xml;q=0.9,*/*;q=0.8\", \"DNT\":\"1\",\"Connection\":\"close\", \"Upgrade-Insecure-Requests\":\"1\"}\n",
    "\n",
    "    page = requests.get(URL, headers=headers)\n",
    "\n",
    "    soup1 = BeautifulSoup(page.content, \"html.parser\")\n",
    "\n",
    "    soup2 = BeautifulSoup(soup1.prettify(), \"html.parser\")\n",
    "\n",
    "    title = soup2.find(id='productTitle').get_text().strip()\n",
    "\n",
    "    price_span = soup2.find('span', {'class': 'a-offscreen'})\n",
    "\n",
    "    price = price_span.text.strip()[1:]\n",
    "    \n",
    "    import datetime\n",
    "\n",
    "    today = datetime.date.today()\n",
    "\n",
    "    import csv\n",
    "\n",
    "    header = ['Title', 'Price', 'Date']\n",
    "    data = [title, price, today]\n",
    "    \n",
    "    with open('AmazonWebScraperDataset.csv', 'a+', newline='', encoding='UTF8') as f:\n",
    "        writer = csv.writer(f)\n",
    "        writer.writerow(data)"
   ]
  },
  {
   "cell_type": "code",
   "execution_count": null,
   "id": "bd2dd91a",
   "metadata": {},
   "outputs": [],
   "source": [
    "while(True):\n",
    "    check_price()\n",
    "    time.sleep(86400)"
   ]
  },
  {
   "cell_type": "code",
   "execution_count": 11,
   "id": "472c5833",
   "metadata": {},
   "outputs": [
    {
     "name": "stdout",
     "output_type": "stream",
     "text": [
      "                                                Title  Price        Date\n",
      "0   TSHIRTAMAZING Data Science T Shirt Programmer ...  23.95  2023-03-04\n",
      "1   TSHIRTAMAZING Data Science T Shirt Programmer ...  23.95  2023-03-04\n",
      "2   TSHIRTAMAZING Data Science T Shirt Programmer ...  23.95  2023-03-04\n",
      "3   TSHIRTAMAZING Data Science T Shirt Programmer ...  23.95  2023-03-04\n",
      "4   TSHIRTAMAZING Data Science T Shirt Programmer ...  23.95  2023-03-04\n",
      "5   TSHIRTAMAZING Data Science T Shirt Programmer ...  23.95  2023-03-04\n",
      "6   TSHIRTAMAZING Data Science T Shirt Programmer ...  23.95  2023-03-04\n",
      "7   TSHIRTAMAZING Data Science T Shirt Programmer ...  23.95  2023-03-04\n",
      "8   TSHIRTAMAZING Data Science T Shirt Programmer ...  23.95  2023-03-04\n",
      "9   TSHIRTAMAZING Data Science T Shirt Programmer ...  23.95  2023-03-04\n",
      "10  TSHIRTAMAZING Data Science T Shirt Programmer ...  23.95  2023-03-04\n",
      "11  TSHIRTAMAZING Data Science T Shirt Programmer ...  23.95  2023-03-04\n",
      "12  TSHIRTAMAZING Data Science T Shirt Programmer ...  23.95  2023-03-04\n"
     ]
    }
   ],
   "source": [
    "import pandas as pd\n",
    "\n",
    "df = pd.read_csv(r'C:\\Users\\lolkt\\AmazonWebScraperDataset.csv')\n",
    "\n",
    "print(df)"
   ]
  }
 ],
 "metadata": {
  "kernelspec": {
   "display_name": "Python 3 (ipykernel)",
   "language": "python",
   "name": "python3"
  },
  "language_info": {
   "codemirror_mode": {
    "name": "ipython",
    "version": 3
   },
   "file_extension": ".py",
   "mimetype": "text/x-python",
   "name": "python",
   "nbconvert_exporter": "python",
   "pygments_lexer": "ipython3",
   "version": "3.9.13"
  }
 },
 "nbformat": 4,
 "nbformat_minor": 5
}
