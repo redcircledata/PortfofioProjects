{
 "cells": [
  {
   "cell_type": "code",
   "execution_count": 28,
   "id": "eb38ecb4",
   "metadata": {},
   "outputs": [
    {
     "name": "stdout",
     "output_type": "stream",
     "text": [
      "Enter your name: łukasz\n",
      "Enter your weight in kilograms: 60\n",
      "Enter your height in centimeters: 170\n",
      "20.76\n",
      "Łukasz, you are normal weight.\n"
     ]
    }
   ],
   "source": [
    "name = input(\"Enter your name: \").capitalize()\n",
    "\n",
    "weight = int(input(\"Enter your weight in kilograms: \"))\n",
    "\n",
    "height = float(input(\"Enter your height in centimeters: \"))/100\n",
    "\n",
    "BMI = weight / (height * height)\n",
    "\n",
    "print(round(BMI, 2))\n",
    "\n",
    "if BMI>0:\n",
    "    if BMI<18.5:\n",
    "        print(name + \", you are underweight.\")\n",
    "    elif BMI<=24.99:\n",
    "        print(name + \", you are normal weight.\")\n",
    "    elif BMI<29.99:\n",
    "        print(name + \", you are overweight.\")\n",
    "    elif BMI<34.99:\n",
    "        print(name + \", you are obese.\")\n",
    "    elif BMI<39.99:\n",
    "        print(name + \", you are severely obese.\")\n",
    "    else:\n",
    "        print(name + \", you are morbidly obese.\")\n",
    "else:\n",
    "    print(\"Enter valid input\")"
   ]
  }
 ],
 "metadata": {
  "kernelspec": {
   "display_name": "Python 3 (ipykernel)",
   "language": "python",
   "name": "python3"
  },
  "language_info": {
   "codemirror_mode": {
    "name": "ipython",
    "version": 3
   },
   "file_extension": ".py",
   "mimetype": "text/x-python",
   "name": "python",
   "nbconvert_exporter": "python",
   "pygments_lexer": "ipython3",
   "version": "3.9.13"
  }
 },
 "nbformat": 4,
 "nbformat_minor": 5
}
